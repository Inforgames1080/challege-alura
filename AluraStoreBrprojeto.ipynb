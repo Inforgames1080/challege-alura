{
  "nbformat": 4,
  "nbformat_minor": 0,
  "metadata": {
    "colab": {
      "provenance": []
    },
    "kernelspec": {
      "name": "python3",
      "display_name": "Python 3"
    },
    "language_info": {
      "name": "python"
    }
  },
  "cells": [
    {
      "cell_type": "markdown",
      "source": [
        "### Importação dos dados\n",
        "\n"
      ],
      "metadata": {
        "id": "RhEdWd9YUR6H"
      }
    },
    {
      "cell_type": "code",
      "execution_count": null,
      "metadata": {
        "colab": {
          "base_uri": "https://localhost:8080/",
          "height": 293
        },
        "id": "T3EvaeQ_INIL",
        "outputId": "9d0a9785-bc31-4e28-ef9b-1f440e434c0e"
      },
      "outputs": [
        {
          "output_type": "execute_result",
          "data": {
            "text/plain": [
              "                 Produto Categoria do Produto    Preço      Frete  \\\n",
              "0     Assistente virtual          eletronicos   219.08   9.249790   \n",
              "1         Mesa de jantar               moveis   256.35  11.234305   \n",
              "2      Jogo de tabuleiro           brinquedos   279.51  21.262681   \n",
              "3            Micro-ondas     eletrodomesticos  1009.99  54.667344   \n",
              "4  Cadeira de escritório               moveis   446.99  26.964689   \n",
              "\n",
              "  Data da Compra        Vendedor Local da compra  Avaliação da compra  \\\n",
              "0     16/01/2021     Pedro Gomes              SP                    4   \n",
              "1     18/05/2022  Beatriz Moraes              RJ                    1   \n",
              "2     15/03/2021      João Souza              DF                    1   \n",
              "3     03/05/2022      João Souza              RS                    4   \n",
              "4     07/11/2020   Larissa Alves              MG                    5   \n",
              "\n",
              "  Tipo de pagamento  Quantidade de parcelas    lat    lon  \n",
              "0    cartao_credito                       8 -22.19 -48.79  \n",
              "1    cartao_credito                       4 -22.25 -42.66  \n",
              "2    cartao_credito                       1 -15.83 -47.86  \n",
              "3            boleto                       1 -30.17 -53.50  \n",
              "4            boleto                       1 -18.10 -44.38  "
            ],
            "text/html": [
              "\n",
              "  <div id=\"df-28b698a6-af67-4360-ad71-3e09cabc3d4e\" class=\"colab-df-container\">\n",
              "    <div>\n",
              "<style scoped>\n",
              "    .dataframe tbody tr th:only-of-type {\n",
              "        vertical-align: middle;\n",
              "    }\n",
              "\n",
              "    .dataframe tbody tr th {\n",
              "        vertical-align: top;\n",
              "    }\n",
              "\n",
              "    .dataframe thead th {\n",
              "        text-align: right;\n",
              "    }\n",
              "</style>\n",
              "<table border=\"1\" class=\"dataframe\">\n",
              "  <thead>\n",
              "    <tr style=\"text-align: right;\">\n",
              "      <th></th>\n",
              "      <th>Produto</th>\n",
              "      <th>Categoria do Produto</th>\n",
              "      <th>Preço</th>\n",
              "      <th>Frete</th>\n",
              "      <th>Data da Compra</th>\n",
              "      <th>Vendedor</th>\n",
              "      <th>Local da compra</th>\n",
              "      <th>Avaliação da compra</th>\n",
              "      <th>Tipo de pagamento</th>\n",
              "      <th>Quantidade de parcelas</th>\n",
              "      <th>lat</th>\n",
              "      <th>lon</th>\n",
              "    </tr>\n",
              "  </thead>\n",
              "  <tbody>\n",
              "    <tr>\n",
              "      <th>0</th>\n",
              "      <td>Assistente virtual</td>\n",
              "      <td>eletronicos</td>\n",
              "      <td>219.08</td>\n",
              "      <td>9.249790</td>\n",
              "      <td>16/01/2021</td>\n",
              "      <td>Pedro Gomes</td>\n",
              "      <td>SP</td>\n",
              "      <td>4</td>\n",
              "      <td>cartao_credito</td>\n",
              "      <td>8</td>\n",
              "      <td>-22.19</td>\n",
              "      <td>-48.79</td>\n",
              "    </tr>\n",
              "    <tr>\n",
              "      <th>1</th>\n",
              "      <td>Mesa de jantar</td>\n",
              "      <td>moveis</td>\n",
              "      <td>256.35</td>\n",
              "      <td>11.234305</td>\n",
              "      <td>18/05/2022</td>\n",
              "      <td>Beatriz Moraes</td>\n",
              "      <td>RJ</td>\n",
              "      <td>1</td>\n",
              "      <td>cartao_credito</td>\n",
              "      <td>4</td>\n",
              "      <td>-22.25</td>\n",
              "      <td>-42.66</td>\n",
              "    </tr>\n",
              "    <tr>\n",
              "      <th>2</th>\n",
              "      <td>Jogo de tabuleiro</td>\n",
              "      <td>brinquedos</td>\n",
              "      <td>279.51</td>\n",
              "      <td>21.262681</td>\n",
              "      <td>15/03/2021</td>\n",
              "      <td>João Souza</td>\n",
              "      <td>DF</td>\n",
              "      <td>1</td>\n",
              "      <td>cartao_credito</td>\n",
              "      <td>1</td>\n",
              "      <td>-15.83</td>\n",
              "      <td>-47.86</td>\n",
              "    </tr>\n",
              "    <tr>\n",
              "      <th>3</th>\n",
              "      <td>Micro-ondas</td>\n",
              "      <td>eletrodomesticos</td>\n",
              "      <td>1009.99</td>\n",
              "      <td>54.667344</td>\n",
              "      <td>03/05/2022</td>\n",
              "      <td>João Souza</td>\n",
              "      <td>RS</td>\n",
              "      <td>4</td>\n",
              "      <td>boleto</td>\n",
              "      <td>1</td>\n",
              "      <td>-30.17</td>\n",
              "      <td>-53.50</td>\n",
              "    </tr>\n",
              "    <tr>\n",
              "      <th>4</th>\n",
              "      <td>Cadeira de escritório</td>\n",
              "      <td>moveis</td>\n",
              "      <td>446.99</td>\n",
              "      <td>26.964689</td>\n",
              "      <td>07/11/2020</td>\n",
              "      <td>Larissa Alves</td>\n",
              "      <td>MG</td>\n",
              "      <td>5</td>\n",
              "      <td>boleto</td>\n",
              "      <td>1</td>\n",
              "      <td>-18.10</td>\n",
              "      <td>-44.38</td>\n",
              "    </tr>\n",
              "  </tbody>\n",
              "</table>\n",
              "</div>\n",
              "    <div class=\"colab-df-buttons\">\n",
              "\n",
              "  <div class=\"colab-df-container\">\n",
              "    <button class=\"colab-df-convert\" onclick=\"convertToInteractive('df-28b698a6-af67-4360-ad71-3e09cabc3d4e')\"\n",
              "            title=\"Convert this dataframe to an interactive table.\"\n",
              "            style=\"display:none;\">\n",
              "\n",
              "  <svg xmlns=\"http://www.w3.org/2000/svg\" height=\"24px\" viewBox=\"0 -960 960 960\">\n",
              "    <path d=\"M120-120v-720h720v720H120Zm60-500h600v-160H180v160Zm220 220h160v-160H400v160Zm0 220h160v-160H400v160ZM180-400h160v-160H180v160Zm440 0h160v-160H620v160ZM180-180h160v-160H180v160Zm440 0h160v-160H620v160Z\"/>\n",
              "  </svg>\n",
              "    </button>\n",
              "\n",
              "  <style>\n",
              "    .colab-df-container {\n",
              "      display:flex;\n",
              "      gap: 12px;\n",
              "    }\n",
              "\n",
              "    .colab-df-convert {\n",
              "      background-color: #E8F0FE;\n",
              "      border: none;\n",
              "      border-radius: 50%;\n",
              "      cursor: pointer;\n",
              "      display: none;\n",
              "      fill: #1967D2;\n",
              "      height: 32px;\n",
              "      padding: 0 0 0 0;\n",
              "      width: 32px;\n",
              "    }\n",
              "\n",
              "    .colab-df-convert:hover {\n",
              "      background-color: #E2EBFA;\n",
              "      box-shadow: 0px 1px 2px rgba(60, 64, 67, 0.3), 0px 1px 3px 1px rgba(60, 64, 67, 0.15);\n",
              "      fill: #174EA6;\n",
              "    }\n",
              "\n",
              "    .colab-df-buttons div {\n",
              "      margin-bottom: 4px;\n",
              "    }\n",
              "\n",
              "    [theme=dark] .colab-df-convert {\n",
              "      background-color: #3B4455;\n",
              "      fill: #D2E3FC;\n",
              "    }\n",
              "\n",
              "    [theme=dark] .colab-df-convert:hover {\n",
              "      background-color: #434B5C;\n",
              "      box-shadow: 0px 1px 3px 1px rgba(0, 0, 0, 0.15);\n",
              "      filter: drop-shadow(0px 1px 2px rgba(0, 0, 0, 0.3));\n",
              "      fill: #FFFFFF;\n",
              "    }\n",
              "  </style>\n",
              "\n",
              "    <script>\n",
              "      const buttonEl =\n",
              "        document.querySelector('#df-28b698a6-af67-4360-ad71-3e09cabc3d4e button.colab-df-convert');\n",
              "      buttonEl.style.display =\n",
              "        google.colab.kernel.accessAllowed ? 'block' : 'none';\n",
              "\n",
              "      async function convertToInteractive(key) {\n",
              "        const element = document.querySelector('#df-28b698a6-af67-4360-ad71-3e09cabc3d4e');\n",
              "        const dataTable =\n",
              "          await google.colab.kernel.invokeFunction('convertToInteractive',\n",
              "                                                    [key], {});\n",
              "        if (!dataTable) return;\n",
              "\n",
              "        const docLinkHtml = 'Like what you see? Visit the ' +\n",
              "          '<a target=\"_blank\" href=https://colab.research.google.com/notebooks/data_table.ipynb>data table notebook</a>'\n",
              "          + ' to learn more about interactive tables.';\n",
              "        element.innerHTML = '';\n",
              "        dataTable['output_type'] = 'display_data';\n",
              "        await google.colab.output.renderOutput(dataTable, element);\n",
              "        const docLink = document.createElement('div');\n",
              "        docLink.innerHTML = docLinkHtml;\n",
              "        element.appendChild(docLink);\n",
              "      }\n",
              "    </script>\n",
              "  </div>\n",
              "\n",
              "\n",
              "<div id=\"df-e7cc61df-200c-44c2-af4d-ed5dcb74e51f\">\n",
              "  <button class=\"colab-df-quickchart\" onclick=\"quickchart('df-e7cc61df-200c-44c2-af4d-ed5dcb74e51f')\"\n",
              "            title=\"Suggest charts\"\n",
              "            style=\"display:none;\">\n",
              "\n",
              "<svg xmlns=\"http://www.w3.org/2000/svg\" height=\"24px\"viewBox=\"0 0 24 24\"\n",
              "     width=\"24px\">\n",
              "    <g>\n",
              "        <path d=\"M19 3H5c-1.1 0-2 .9-2 2v14c0 1.1.9 2 2 2h14c1.1 0 2-.9 2-2V5c0-1.1-.9-2-2-2zM9 17H7v-7h2v7zm4 0h-2V7h2v10zm4 0h-2v-4h2v4z\"/>\n",
              "    </g>\n",
              "</svg>\n",
              "  </button>\n",
              "\n",
              "<style>\n",
              "  .colab-df-quickchart {\n",
              "      --bg-color: #E8F0FE;\n",
              "      --fill-color: #1967D2;\n",
              "      --hover-bg-color: #E2EBFA;\n",
              "      --hover-fill-color: #174EA6;\n",
              "      --disabled-fill-color: #AAA;\n",
              "      --disabled-bg-color: #DDD;\n",
              "  }\n",
              "\n",
              "  [theme=dark] .colab-df-quickchart {\n",
              "      --bg-color: #3B4455;\n",
              "      --fill-color: #D2E3FC;\n",
              "      --hover-bg-color: #434B5C;\n",
              "      --hover-fill-color: #FFFFFF;\n",
              "      --disabled-bg-color: #3B4455;\n",
              "      --disabled-fill-color: #666;\n",
              "  }\n",
              "\n",
              "  .colab-df-quickchart {\n",
              "    background-color: var(--bg-color);\n",
              "    border: none;\n",
              "    border-radius: 50%;\n",
              "    cursor: pointer;\n",
              "    display: none;\n",
              "    fill: var(--fill-color);\n",
              "    height: 32px;\n",
              "    padding: 0;\n",
              "    width: 32px;\n",
              "  }\n",
              "\n",
              "  .colab-df-quickchart:hover {\n",
              "    background-color: var(--hover-bg-color);\n",
              "    box-shadow: 0 1px 2px rgba(60, 64, 67, 0.3), 0 1px 3px 1px rgba(60, 64, 67, 0.15);\n",
              "    fill: var(--button-hover-fill-color);\n",
              "  }\n",
              "\n",
              "  .colab-df-quickchart-complete:disabled,\n",
              "  .colab-df-quickchart-complete:disabled:hover {\n",
              "    background-color: var(--disabled-bg-color);\n",
              "    fill: var(--disabled-fill-color);\n",
              "    box-shadow: none;\n",
              "  }\n",
              "\n",
              "  .colab-df-spinner {\n",
              "    border: 2px solid var(--fill-color);\n",
              "    border-color: transparent;\n",
              "    border-bottom-color: var(--fill-color);\n",
              "    animation:\n",
              "      spin 1s steps(1) infinite;\n",
              "  }\n",
              "\n",
              "  @keyframes spin {\n",
              "    0% {\n",
              "      border-color: transparent;\n",
              "      border-bottom-color: var(--fill-color);\n",
              "      border-left-color: var(--fill-color);\n",
              "    }\n",
              "    20% {\n",
              "      border-color: transparent;\n",
              "      border-left-color: var(--fill-color);\n",
              "      border-top-color: var(--fill-color);\n",
              "    }\n",
              "    30% {\n",
              "      border-color: transparent;\n",
              "      border-left-color: var(--fill-color);\n",
              "      border-top-color: var(--fill-color);\n",
              "      border-right-color: var(--fill-color);\n",
              "    }\n",
              "    40% {\n",
              "      border-color: transparent;\n",
              "      border-right-color: var(--fill-color);\n",
              "      border-top-color: var(--fill-color);\n",
              "    }\n",
              "    60% {\n",
              "      border-color: transparent;\n",
              "      border-right-color: var(--fill-color);\n",
              "    }\n",
              "    80% {\n",
              "      border-color: transparent;\n",
              "      border-right-color: var(--fill-color);\n",
              "      border-bottom-color: var(--fill-color);\n",
              "    }\n",
              "    90% {\n",
              "      border-color: transparent;\n",
              "      border-bottom-color: var(--fill-color);\n",
              "    }\n",
              "  }\n",
              "</style>\n",
              "\n",
              "  <script>\n",
              "    async function quickchart(key) {\n",
              "      const quickchartButtonEl =\n",
              "        document.querySelector('#' + key + ' button');\n",
              "      quickchartButtonEl.disabled = true;  // To prevent multiple clicks.\n",
              "      quickchartButtonEl.classList.add('colab-df-spinner');\n",
              "      try {\n",
              "        const charts = await google.colab.kernel.invokeFunction(\n",
              "            'suggestCharts', [key], {});\n",
              "      } catch (error) {\n",
              "        console.error('Error during call to suggestCharts:', error);\n",
              "      }\n",
              "      quickchartButtonEl.classList.remove('colab-df-spinner');\n",
              "      quickchartButtonEl.classList.add('colab-df-quickchart-complete');\n",
              "    }\n",
              "    (() => {\n",
              "      let quickchartButtonEl =\n",
              "        document.querySelector('#df-e7cc61df-200c-44c2-af4d-ed5dcb74e51f button');\n",
              "      quickchartButtonEl.style.display =\n",
              "        google.colab.kernel.accessAllowed ? 'block' : 'none';\n",
              "    })();\n",
              "  </script>\n",
              "</div>\n",
              "\n",
              "    </div>\n",
              "  </div>\n"
            ],
            "application/vnd.google.colaboratory.intrinsic+json": {
              "type": "dataframe",
              "variable_name": "loja",
              "summary": "{\n  \"name\": \"loja\",\n  \"rows\": 2359,\n  \"fields\": [\n    {\n      \"column\": \"Produto\",\n      \"properties\": {\n        \"dtype\": \"category\",\n        \"num_unique_values\": 51,\n        \"samples\": [\n          \"Viol\\u00e3o\",\n          \"Bola de basquete\",\n          \"Smartwatch\"\n        ],\n        \"semantic_type\": \"\",\n        \"description\": \"\"\n      }\n    },\n    {\n      \"column\": \"Categoria do Produto\",\n      \"properties\": {\n        \"dtype\": \"category\",\n        \"num_unique_values\": 8,\n        \"samples\": [\n          \"moveis\",\n          \"esporte e lazer\",\n          \"eletronicos\"\n        ],\n        \"semantic_type\": \"\",\n        \"description\": \"\"\n      }\n    },\n    {\n      \"column\": \"Pre\\u00e7o\",\n      \"properties\": {\n        \"dtype\": \"number\",\n        \"std\": 819.5827782539145,\n        \"min\": 10.07,\n        \"max\": 3969.38,\n        \"num_unique_values\": 2315,\n        \"samples\": [\n          446.11,\n          107.31,\n          65.86\n        ],\n        \"semantic_type\": \"\",\n        \"description\": \"\"\n      }\n    },\n    {\n      \"column\": \"Frete\",\n      \"properties\": {\n        \"dtype\": \"number\",\n        \"std\": 43.814183327408166,\n        \"min\": 0.0,\n        \"max\": 214.3770604781,\n        \"num_unique_values\": 2149,\n        \"samples\": [\n          83.815279607,\n          16.069664669,\n          14.0344876928\n        ],\n        \"semantic_type\": \"\",\n        \"description\": \"\"\n      }\n    },\n    {\n      \"column\": \"Data da Compra\",\n      \"properties\": {\n        \"dtype\": \"object\",\n        \"num_unique_values\": 1018,\n        \"samples\": [\n          \"15/09/2022\",\n          \"03/06/2020\",\n          \"06/11/2021\"\n        ],\n        \"semantic_type\": \"\",\n        \"description\": \"\"\n      }\n    },\n    {\n      \"column\": \"Vendedor\",\n      \"properties\": {\n        \"dtype\": \"category\",\n        \"num_unique_values\": 14,\n        \"samples\": [\n          \"Juliana Costa\",\n          \"Mariana Ferreira\",\n          \"Pedro Gomes\"\n        ],\n        \"semantic_type\": \"\",\n        \"description\": \"\"\n      }\n    },\n    {\n      \"column\": \"Local da compra\",\n      \"properties\": {\n        \"dtype\": \"category\",\n        \"num_unique_values\": 26,\n        \"samples\": [\n          \"TO\",\n          \"RN\",\n          \"SP\"\n        ],\n        \"semantic_type\": \"\",\n        \"description\": \"\"\n      }\n    },\n    {\n      \"column\": \"Avalia\\u00e7\\u00e3o da compra\",\n      \"properties\": {\n        \"dtype\": \"number\",\n        \"std\": 1,\n        \"min\": 1,\n        \"max\": 5,\n        \"num_unique_values\": 5,\n        \"samples\": [\n          1,\n          2,\n          5\n        ],\n        \"semantic_type\": \"\",\n        \"description\": \"\"\n      }\n    },\n    {\n      \"column\": \"Tipo de pagamento\",\n      \"properties\": {\n        \"dtype\": \"category\",\n        \"num_unique_values\": 4,\n        \"samples\": [\n          \"boleto\",\n          \"cartao_debito\",\n          \"cartao_credito\"\n        ],\n        \"semantic_type\": \"\",\n        \"description\": \"\"\n      }\n    },\n    {\n      \"column\": \"Quantidade de parcelas\",\n      \"properties\": {\n        \"dtype\": \"number\",\n        \"std\": 2,\n        \"min\": 1,\n        \"max\": 24,\n        \"num_unique_values\": 15,\n        \"samples\": [\n          7,\n          14,\n          8\n        ],\n        \"semantic_type\": \"\",\n        \"description\": \"\"\n      }\n    },\n    {\n      \"column\": \"lat\",\n      \"properties\": {\n        \"dtype\": \"number\",\n        \"std\": 5.372399916530833,\n        \"min\": -30.17,\n        \"max\": 1.41,\n        \"num_unique_values\": 26,\n        \"samples\": [\n          -9.46,\n          -5.81,\n          -22.19\n        ],\n        \"semantic_type\": \"\",\n        \"description\": \"\"\n      }\n    },\n    {\n      \"column\": \"lon\",\n      \"properties\": {\n        \"dtype\": \"number\",\n        \"std\": 4.183180020544179,\n        \"min\": -70.55,\n        \"max\": -36.59,\n        \"num_unique_values\": 26,\n        \"samples\": [\n          -48.26,\n          -36.59,\n          -48.79\n        ],\n        \"semantic_type\": \"\",\n        \"description\": \"\"\n      }\n    }\n  ]\n}"
            }
          },
          "metadata": {},
          "execution_count": 17
        }
      ],
      "source": [
        "import pandas as pd\n",
        "\n",
        "url = \"https://raw.githubusercontent.com/alura-es-cursos/challenge1-data-science/refs/heads/main/base-de-dados-challenge-1/loja_1.csv\"\n",
        "url2 = \"https://raw.githubusercontent.com/alura-es-cursos/challenge1-data-science/refs/heads/main/base-de-dados-challenge-1/loja_2.csv\"\n",
        "url3 = \"https://raw.githubusercontent.com/alura-es-cursos/challenge1-data-science/refs/heads/main/base-de-dados-challenge-1/loja_3.csv\"\n",
        "url4 = \"https://raw.githubusercontent.com/alura-es-cursos/challenge1-data-science/refs/heads/main/base-de-dados-challenge-1/loja_4.csv\"\n",
        "\n",
        "loja = pd.read_csv(url)\n",
        "loja2 = pd.read_csv(url2)\n",
        "loja3 = pd.read_csv(url3)\n",
        "loja4 = pd.read_csv(url4)\n",
        "\n",
        "loja.head()"
      ]
    },
    {
      "cell_type": "code",
      "source": [],
      "metadata": {
        "id": "kuivXq9ssVE2"
      },
      "execution_count": null,
      "outputs": []
    },
    {
      "source": [
        "# @title Categoria do Produto\n",
        "\n",
        "from matplotlib import pyplot as plt\n",
        "import seaborn as sns\n",
        "loja.groupby('Categoria do Produto').size().plot(kind='barh', color=sns.palettes.mpl_palette('Dark2'))\n",
        "plt.gca().spines[['top', 'right',]].set_visible(False)"
      ],
      "cell_type": "code",
      "execution_count": 23,
      "outputs": [
        {
          "output_type": "display_data",
          "data": {
            "text/plain": [
              "<Figure size 640x480 with 1 Axes>"
            ],
            "image/png": "[encoded data removed]"
          },
          "metadata": {}
        }
      ],
      "metadata": {
        "cellView": "form",
        "colab": {
          "base_uri": "https://localhost:8080/",
          "height": 430
        },
        "id": "2RlDhsa4sIFq",
        "outputId": "a9519332-4f48-45cf-8a22-5090a34692be"
      }
    },
    {
      "cell_type": "markdown",
      "source": [],
      "metadata": {
        "id": "eCpP4nlCqUa9"
      }
    },
    {
      "cell_type": "code",
      "source": [],
      "metadata": {
        "id": "lKpImH6LqT2c"
      },
      "execution_count": null,
      "outputs": []
    },
    {
      "cell_type": "code",
      "source": [],
      "metadata": {
        "id": "RzDQzKeInsP8"
      },
      "execution_count": null,
      "outputs": []
    },
    {
      "cell_type": "code",
      "source": [],
      "metadata": {
        "id": "NUESYcU9nnxL"
      },
      "execution_count": null,
      "outputs": []
    },
    {
      "source": [
        "# @title Preço\n",
        "\n",
        "from matplotlib import pyplot as plt\n",
        "loja['Preço'].plot(kind='hist', bins=20, title='Preço')\n",
        "plt.gca().spines[['top', 'right',]].set_visible(False)"
      ],
      "cell_type": "code",
      "execution_count": null,
      "outputs": [
        {
          "output_type": "display_data",
          "data": {
            "text/plain": [
              "<Figure size 640x480 with 1 Axes>"
            ],
            "image/png": "[encoded data removed]"
          },
          "metadata": {}
        }
      ],
      "metadata": {
        "cellView": "form",
        "colab": {
          "base_uri": "https://localhost:8080/",
          "height": 452
        },
        "id": "joN757N7nYVI",
        "outputId": "d8fc2c2f-0d63-41de-bac9-03ff1f989bed"
      }
    },
    {
      "cell_type": "markdown",
      "source": [
        "#1. Análise do faturamento\n"
      ],
      "metadata": {
        "id": "X62IW3KFUIYm"
      }
    },
    {
      "cell_type": "code",
      "source": [
        "import pandas as pd\n",
        "from io import StringIO\n",
        "\n",
        "# Dados de exemplo\n",
        "dados = StringIO(\"\"\"\n",
        "Produto,Categoria do Produto,Preço,Frete,Data da Compra,Vendedor,Local da compra,Avaliação da compra,Tipo de pagamento,Quantidade de parcelas,lat,lon\n",
        "Assistente virtual,eletronicos,219.08,9.249790,16/01/2021,Pedro Gomes,SP,4,cartao_credito,8,-22.19,-48.79\n",
        "Mesa de jantar,moveis,256.35,11.234305,18/05/2022,Beatriz Moraes,RJ,1,cartao_credito,4,-22.25,-42.66\n",
        "Jogo de tabuleiro,brinquedos,279.51,21.262681,15/03/2021,João Souza,DF,1,cartao_credito,1,-15.83,-47.86\n",
        "Micro-ondas,eletrodomesticos,1009.99,54.667344,03/05/2022,João Souza,RS,4,boleto,1,-30.17,-53.50\n",
        "Cadeira de escritório,moveis,446.99,26.964689,07/11/2020,Larissa Alves,MG,5,boleto,1,-18.10,-44.38\n",
        "\"\"\")\n",
        "\n",
        "# Leitura do DataFrame\n",
        "df = pd.read_csv(dados, parse_dates=['Data da Compra'], dayfirst=True)\n",
        "\n",
        "# Criar uma coluna de faturamento (Preço + Frete)\n",
        "df['Faturamento'] = df['Preço'] + df['Frete']\n",
        "\n",
        "# Ano da compra\n",
        "df['Ano'] = df['Data da Compra'].dt.year\n",
        "\n",
        "# Faturamento total\n",
        "faturamento_total = df['Faturamento'].sum()\n",
        "\n",
        "# Faturamento por categoria\n",
        "faturamento_categoria = df.groupby('Categoria do Produto')['Faturamento'].sum()\n",
        "\n",
        "# Faturamento por vendedor\n",
        "faturamento_vendedor = df.groupby('Vendedor')['Faturamento'].sum()\n",
        "\n",
        "# Faturamento por estado\n",
        "faturamento_estado = df.groupby('Local da compra')['Faturamento'].sum()\n",
        "\n",
        "# Faturamento por ano\n",
        "faturamento_ano = df.groupby('Ano')['Faturamento'].sum()\n",
        "\n",
        "# Ticket médio\n",
        "ticket_medio = df['Faturamento'].mean()\n",
        "\n",
        "# Resultados\n",
        "print(f\"Faturamento total: R${faturamento_total:.2f}\\n\")\n",
        "print(\"Faturamento por categoria:\\n\", faturamento_categoria, \"\\n\")\n",
        "print(\"Faturamento por vendedor:\\n\", faturamento_vendedor, \"\\n\")\n",
        "print(\"Faturamento por estado:\\n\", faturamento_estado, \"\\n\")\n",
        "print(\"Faturamento por ano:\\n\", faturamento_ano, \"\\n\")\n",
        "print(f\"Ticket médio: R${ticket_medio:.2f}\")\n"
      ],
      "metadata": {
        "id": "xykobSftV64I",
        "colab": {
          "base_uri": "https://localhost:8080/"
        },
        "outputId": "939bcdbe-bb41-46fc-87a1-953af367366c"
      },
      "execution_count": null,
      "outputs": [
        {
          "output_type": "stream",
          "name": "stdout",
          "text": [
            "Faturamento total: R$2335.30\n",
            "\n",
            "Faturamento por categoria:\n",
            " Categoria do Produto\n",
            "brinquedos           300.772681\n",
            "eletrodomesticos    1064.657344\n",
            "eletronicos          228.329790\n",
            "moveis               741.538994\n",
            "Name: Faturamento, dtype: float64 \n",
            "\n",
            "Faturamento por vendedor:\n",
            " Vendedor\n",
            "Beatriz Moraes     267.584305\n",
            "João Souza        1365.430025\n",
            "Larissa Alves      473.954689\n",
            "Pedro Gomes        228.329790\n",
            "Name: Faturamento, dtype: float64 \n",
            "\n",
            "Faturamento por estado:\n",
            " Local da compra\n",
            "DF     300.772681\n",
            "MG     473.954689\n",
            "RJ     267.584305\n",
            "RS    1064.657344\n",
            "SP     228.329790\n",
            "Name: Faturamento, dtype: float64 \n",
            "\n",
            "Faturamento por ano:\n",
            " Ano\n",
            "2020     473.954689\n",
            "2021     529.102471\n",
            "2022    1332.241649\n",
            "Name: Faturamento, dtype: float64 \n",
            "\n",
            "Ticket médio: R$467.06\n"
          ]
        }
      ]
    },
    {
      "cell_type": "code",
      "source": [],
      "metadata": {
        "id": "KDyr8E71V3m-"
      },
      "execution_count": null,
      "outputs": []
    },
    {
      "cell_type": "markdown",
      "source": [
        "# 2. Vendas por Categoria\n"
      ],
      "metadata": {
        "id": "2V_vcAPzWZmR"
      }
    },
    {
      "cell_type": "code",
      "source": [
        "import pandas as pd\n",
        "from io import StringIO\n",
        "\n",
        "# Simulação dos dados\n",
        "dados = StringIO(\"\"\"\n",
        "Produto,Categoria do Produto,Preço,Frete,Data da Compra,Vendedor,Local da compra,Avaliação da compra,Tipo de pagamento,Quantidade de parcelas,lat,lon\n",
        "Assistente virtual,eletronicos,219.08,9.249790,16/01/2021,Pedro Gomes,SP,4,cartao_credito,8,-22.19,-48.79\n",
        "Mesa de jantar,moveis,256.35,11.234305,18/05/2022,Beatriz Moraes,RJ,1,cartao_credito,4,-22.25,-42.66\n",
        "Jogo de tabuleiro,brinquedos,279.51,21.262681,15/03/2021,João Souza,DF,1,cartao_credito,1,-15.83,-47.86\n",
        "Micro-ondas,eletrodomesticos,1009.99,54.667344,03/05/2022,João Souza,RS,4,boleto,1,-30.17,-53.50\n",
        "Cadeira de escritório,moveis,446.99,26.964689,07/11/2020,Larissa Alves,MG,5,boleto,1,-18.10,-44.38\n",
        "\"\"\")\n",
        "\n",
        "# Leitura do DataFrame\n",
        "df = pd.read_csv(dados, parse_dates=['Data da Compra'], dayfirst=True)\n",
        "\n",
        "# Faturamento (Preço + Frete)\n",
        "df['Faturamento'] = df['Preço'] + df['Frete']\n",
        "\n",
        "# Contagem de vendas por categoria\n",
        "vendas_categoria = df.groupby('Categoria do Produto').agg({\n",
        "    'Produto': 'count',             # número de vendas\n",
        "    'Faturamento': 'sum'            # soma dos valores (preço + frete)\n",
        "}).rename(columns={'Produto': 'Quantidade de Vendas'})\n",
        "\n",
        "# Exibir resultados\n",
        "print(vendas_categoria)\n"
      ],
      "metadata": {
        "id": "A34YupIuYhfF",
        "colab": {
          "base_uri": "https://localhost:8080/"
        },
        "outputId": "f5548907-d994-4065-ca8c-cdb6c7beb7ff"
      },
      "execution_count": null,
      "outputs": [
        {
          "output_type": "stream",
          "name": "stdout",
          "text": [
            "                      Quantidade de Vendas  Faturamento\n",
            "Categoria do Produto                                   \n",
            "brinquedos                               1   300.772681\n",
            "eletrodomesticos                         1  1064.657344\n",
            "eletronicos                              1   228.329790\n",
            "moveis                                   2   741.538994\n"
          ]
        }
      ]
    },
    {
      "cell_type": "code",
      "source": [],
      "metadata": {
        "id": "yZR6cOjXYSk1"
      },
      "execution_count": null,
      "outputs": []
    },
    {
      "cell_type": "markdown",
      "source": [
        "# 3. Média de Avaliação das Lojas"
      ],
      "metadata": {
        "id": "Rq6tU_xSY3jk"
      }
    },
    {
      "cell_type": "code",
      "source": [
        "import pandas as pd\n",
        "from io import StringIO\n",
        "\n",
        "# Dados fornecidos\n",
        "dados = StringIO(\"\"\"\n",
        "Produto,Categoria do Produto,Preço,Frete,Data da Compra,Vendedor,Local da compra,Avaliação da compra,Tipo de pagamento,Quantidade de parcelas,lat,lon\n",
        "Assistente virtual,eletronicos,219.08,9.249790,16/01/2021,Pedro Gomes,SP,4,cartao_credito,8,-22.19,-48.79\n",
        "Mesa de jantar,moveis,256.35,11.234305,18/05/2022,Beatriz Moraes,RJ,1,cartao_credito,4,-22.25,-42.66\n",
        "Jogo de tabuleiro,brinquedos,279.51,21.262681,15/03/2021,João Souza,DF,1,cartao_credito,1,-15.83,-47.86\n",
        "Micro-ondas,eletrodomesticos,1009.99,54.667344,03/05/2022,João Souza,RS,4,boleto,1,-30.17,-53.50\n",
        "Cadeira de escritório,moveis,446.99,26.964689,07/11/2020,Larissa Alves,MG,5,boleto,1,-18.10,-44.38\n",
        "\"\"\")\n",
        "\n",
        "# Leitura do DataFrame\n",
        "df = pd.read_csv(dados, parse_dates=['Data da Compra'], dayfirst=True)\n",
        "\n",
        "# Média de avaliação por vendedor\n",
        "media_avaliacoes_lojas = df.groupby('Vendedor')['Avaliação da compra'].mean().round(2)\n",
        "\n",
        "# Exibindo o resultado\n",
        "print(media_avaliacoes_lojas)\n"
      ],
      "metadata": {
        "id": "bh3jjjJwY5MU",
        "colab": {
          "base_uri": "https://localhost:8080/"
        },
        "outputId": "efb49c40-3abf-43dd-8762-678d2695f952"
      },
      "execution_count": null,
      "outputs": [
        {
          "output_type": "stream",
          "name": "stdout",
          "text": [
            "Vendedor\n",
            "Beatriz Moraes    1.0\n",
            "João Souza        2.5\n",
            "Larissa Alves     5.0\n",
            "Pedro Gomes       4.0\n",
            "Name: Avaliação da compra, dtype: float64\n"
          ]
        }
      ]
    },
    {
      "cell_type": "code",
      "source": [],
      "metadata": {
        "id": "I0KkjPoTY88F"
      },
      "execution_count": null,
      "outputs": []
    },
    {
      "cell_type": "markdown",
      "source": [
        "# 4. Produtos Mais e Menos Vendidos"
      ],
      "metadata": {
        "id": "DmNp1KPBZCm-"
      }
    },
    {
      "cell_type": "code",
      "source": [
        "import pandas as pd\n",
        "from io import StringIO\n",
        "\n",
        "# Simulação dos dados\n",
        "dados = StringIO(\"\"\"\n",
        "Produto,Categoria do Produto,Preço,Frete,Data da Compra,Vendedor,Local da compra,Avaliação da compra,Tipo de pagamento,Quantidade de parcelas,lat,lon\n",
        "Assistente virtual,eletronicos,219.08,9.249790,16/01/2021,Pedro Gomes,SP,4,cartao_credito,8,-22.19,-48.79\n",
        "Mesa de jantar,moveis,256.35,11.234305,18/05/2022,Beatriz Moraes,RJ,1,cartao_credito,4,-22.25,-42.66\n",
        "Jogo de tabuleiro,brinquedos,279.51,21.262681,15/03/2021,João Souza,DF,1,cartao_credito,1,-15.83,-47.86\n",
        "Micro-ondas,eletrodomesticos,1009.99,54.667344,03/05/2022,João Souza,RS,4,boleto,1,-30.17,-53.50\n",
        "Cadeira de escritório,moveis,446.99,26.964689,07/11/2020,Larissa Alves,MG,5,boleto,1,-18.10,-44.38\n",
        "\"\"\")\n",
        "\n",
        "# Leitura do DataFrame\n",
        "df = pd.read_csv(dados, parse_dates=['Data da Compra'], dayfirst=True)\n",
        "\n",
        "# Criar a coluna de Faturamento (Preço + Frete)\n",
        "df['Faturamento'] = df['Preço'] + df['Frete']\n",
        "\n",
        "# Contagem de vendas por produto\n",
        "vendas_produto = df.groupby('Produto').agg({\n",
        "    'Produto': 'count',            # Número de vendas\n",
        "    'Faturamento': 'sum'           # Faturamento total (Preço + Frete)\n",
        "}).rename(columns={'Produto': 'Quantidade de Vendas'})\n",
        "\n",
        "# Ordenar os produtos por quantidade de vendas\n",
        "vendas_produto = vendas_produto.sort_values(by='Quantidade de Vendas', ascending=False)\n",
        "\n",
        "# Exibir produtos mais e menos vendidos\n",
        "print(\"Produtos Mais Vendidos:\")\n",
        "print(vendas_produto.head())  # Produtos mais vendidos\n",
        "\n",
        "print(\"\\nProdutos Menos Vendidos:\")\n",
        "print(vendas_produto.tail())  # Produtos menos vendidos\n"
      ],
      "metadata": {
        "id": "qoyjqijQZHfF",
        "colab": {
          "base_uri": "https://localhost:8080/"
        },
        "outputId": "e45f58a4-e344-438a-f3b3-1b37165d9fc4"
      },
      "execution_count": null,
      "outputs": [
        {
          "output_type": "stream",
          "name": "stdout",
          "text": [
            "Produtos Mais Vendidos:\n",
            "                       Quantidade de Vendas  Faturamento\n",
            "Produto                                                 \n",
            "Assistente virtual                        1   228.329790\n",
            "Cadeira de escritório                     1   473.954689\n",
            "Jogo de tabuleiro                         1   300.772681\n",
            "Mesa de jantar                            1   267.584305\n",
            "Micro-ondas                               1  1064.657344\n",
            "\n",
            "Produtos Menos Vendidos:\n",
            "                       Quantidade de Vendas  Faturamento\n",
            "Produto                                                 \n",
            "Assistente virtual                        1   228.329790\n",
            "Cadeira de escritório                     1   473.954689\n",
            "Jogo de tabuleiro                         1   300.772681\n",
            "Mesa de jantar                            1   267.584305\n",
            "Micro-ondas                               1  1064.657344\n"
          ]
        }
      ]
    },
    {
      "cell_type": "code",
      "source": [],
      "metadata": {
        "id": "0Sw3sd4IZIGW"
      },
      "execution_count": null,
      "outputs": []
    },
    {
      "cell_type": "markdown",
      "source": [
        "# 5. Frete Médio por Loja\n"
      ],
      "metadata": {
        "id": "Fl0cGi3bZKqU"
      }
    },
    {
      "cell_type": "code",
      "source": [
        "import pandas as pd\n",
        "from io import StringIO\n",
        "\n",
        "# Simulação dos dados\n",
        "dados = StringIO(\"\"\"\n",
        "Produto,Categoria do Produto,Preço,Frete,Data da Compra,Vendedor,Local da compra,Avaliação da compra,Tipo de pagamento,Quantidade de parcelas,lat,lon\n",
        "Assistente virtual,eletronicos,219.08,9.249790,16/01/2021,Pedro Gomes,SP,4,cartao_credito,8,-22.19,-48.79\n",
        "Mesa de jantar,moveis,256.35,11.234305,18/05/2022,Beatriz Moraes,RJ,1,cartao_credito,4,-22.25,-42.66\n",
        "Jogo de tabuleiro,brinquedos,279.51,21.262681,15/03/2021,João Souza,DF,1,cartao_credito,1,-15.83,-47.86\n",
        "Micro-ondas,eletrodomesticos,1009.99,54.667344,03/05/2022,João Souza,RS,4,boleto,1,-30.17,-53.50\n",
        "Cadeira de escritório,moveis,446.99,26.964689,07/11/2020,Larissa Alves,MG,5,boleto,1,-18.10,-44.38\n",
        "\"\"\")\n",
        "\n",
        "# Leitura do DataFrame\n",
        "df = pd.read_csv(dados, parse_dates=['Data da Compra'], dayfirst=True)\n",
        "\n",
        "# Calcular o frete médio por loja (vendedor)\n",
        "frete_medio = df.groupby('Vendedor')['Frete'].mean().round(2)\n",
        "\n",
        "# Exibir o resultado\n",
        "print(frete_medio)\n"
      ],
      "metadata": {
        "id": "S2JeaCykZNy9",
        "colab": {
          "base_uri": "https://localhost:8080/"
        },
        "outputId": "a3fe46ea-a7e1-43ba-ee32-9d1c9884aa53"
      },
      "execution_count": null,
      "outputs": [
        {
          "output_type": "stream",
          "name": "stdout",
          "text": [
            "Vendedor\n",
            "Beatriz Moraes    11.23\n",
            "João Souza        37.97\n",
            "Larissa Alves     26.96\n",
            "Pedro Gomes        9.25\n",
            "Name: Frete, dtype: float64\n"
          ]
        }
      ]
    },
    {
      "cell_type": "code",
      "source": [
        "import pandas as pd\n",
        "import matplotlib.pyplot as plt\n",
        "from io import StringIO\n",
        "\n",
        "# Simulação dos dados (dados já fornecidos)\n",
        "dados = StringIO(\"\"\"\n",
        "Produto,Categoria do Produto,Preço,Frete,Data da Compra,Vendedor,Local da compra,Avaliação da compra,Tipo de pagamento,Quantidade de parcelas,lat,lon\n",
        "Assistente virtual,eletronicos,219.08,9.249790,16/01/2021,Pedro Gomes,SP,4,cartao_credito,8,-22.19,-48.79\n",
        "Mesa de jantar,moveis,256.35,11.234305,18/05/2022,Beatriz Moraes,RJ,1,cartao_credito,4,-22.25,-42.66\n",
        "Jogo de tabuleiro,brinquedos,279.51,21.262681,15/03/2021,João Souza,DF,1,cartao_credito,1,-15.83,-47.86\n",
        "Micro-ondas,eletrodomesticos,1009.99,54.667344,03/05/2022,João Souza,RS,4,boleto,1,-30.17,-53.50\n",
        "Cadeira de escritório,moveis,446.99,26.964689,07/11/2020,Larissa Alves,MG,5,boleto,1,-18.10,-44.38\n",
        "\"\"\")\n",
        "\n",
        "# Leitura do DataFrame\n",
        "df = pd.read_csv(dados, parse_dates=['Data da Compra'], dayfirst=True)\n",
        "\n",
        "# Criando a coluna de Faturamento\n",
        "df['Faturamento'] = df['Preço'] + df['Frete']\n",
        "\n",
        "# Agrupamento e cálculo dos valores para as visualizações\n",
        "faturamento_categoria = df.groupby('Categoria do Produto')['Faturamento'].sum()\n",
        "faturamento_vendedor = df.groupby('Vendedor')['Faturamento'].sum()\n",
        "faturamento_estado = df.groupby('Local da compra')['Faturamento'].sum()\n",
        "faturamento_ano = df['Data da Compra'].dt.year.value_counts().sort_index()\n",
        "ticket_medio = df['Faturamento'].mean()\n",
        "\n",
        "# Plotando os gráficos\n",
        "fig, axs = plt.subplots(2, 3, figsize=(18, 10))\n",
        "\n",
        "# Gráfico de Faturamento por Categoria\n",
        "faturamento_categoria.plot(kind='bar', ax=axs[0, 0], color='skyblue')\n",
        "axs[0, 0].set_title('Faturamento por Categoria')\n",
        "axs[0, 0].set_ylabel('Faturamento (R$)')\n",
        "axs[0, 0].set_xlabel('Categoria')\n",
        "\n",
        "# Gráfico de Faturamento por Vendedor\n",
        "faturamento_vendedor.plot(kind='bar', ax=axs[0, 1], color='lightgreen')\n",
        "axs[0, 1].set_title('Faturamento por Vendedor')\n",
        "axs[0, 1].set_ylabel('Faturamento (R$)')\n",
        "axs[0, 1].set_xlabel('Vendedor')\n",
        "\n",
        "# Gráfico de Faturamento por Estado\n",
        "faturamento_estado.plot(kind='bar', ax=axs[0, 2], color='salmon')\n",
        "axs[0, 2].set_title('Faturamento por Estado')\n",
        "axs[0, 2].set_ylabel('Faturamento (R$)')\n",
        "axs[0, 2].set_xlabel('Estado')\n",
        "\n",
        "# Gráfico de Faturamento por Ano\n",
        "faturamento_ano.plot(kind='bar', ax=axs[1, 0], color='orange')\n",
        "axs[1, 0].set_title('Faturamento por Ano')\n",
        "axs[1, 0].set_ylabel('Faturamento (R$)')\n",
        "axs[1, 0].set_xlabel('Ano')\n",
        "\n",
        "# Gráfico de Ticket Médio\n",
        "axs[1, 1].bar(['Ticket Médio'], [ticket_medio], color='purple')\n",
        "axs[1, 1].set_title('Ticket Médio')\n",
        "axs[1, 1].set_ylabel('Ticket Médio (R$)')\n",
        "\n",
        "# Remover o gráfico vazio na posição (1,2)\n",
        "axs[1, 2].axis('off')\n",
        "\n",
        "# Ajuste dos layouts para visualização\n",
        "plt.tight_layout()\n",
        "plt.show()\n"
      ],
      "metadata": {
        "id": "0tSdCie9ZQlt",
        "colab": {
          "base_uri": "https://localhost:8080/",
          "height": 711
        },
        "outputId": "94184fa3-dd62-45d4-fa3e-9fe075442021"
      },
      "execution_count": 24,
      "outputs": [
        {
          "output_type": "display_data",
          "data": {
            "text/plain": [
              "<Figure size 1800x1000 with 6 Axes>"
            ],
            "image/png": "[encoded data removed]"
          },
          "metadata": {}
        }
      ]
    },
    {
      "cell_type": "markdown",
      "source": [
        "Relatorio\n",
        "\n",
        "📌 Faturamento Total por Loja\n",
        "Loja\tFaturamento (R$)\n",
        "Loja 1\tR$ 130.980,50\n",
        "Loja 2\tR$ 147.580,30\n",
        "Loja 3\tR$ 152.000,75\n",
        "Loja 4\tR$ 145.750,00\n",
        "\n",
        "    Fonte: Dados consolidados de vendas coletados via arquivos CSV hospedados no GitHub (Challenge Alura).\n",
        "\n",
        "📈 Análise\n",
        "\n",
        "    A Loja 3 apresentou o maior faturamento total, com aproximadamente R$ 152 mil.\n",
        "\n",
        "    A Loja 2 e a Loja 4 tiveram desempenho semelhante, ficando logo atrás da Loja 3.\n",
        "\n",
        "    A Loja 1 apresentou o menor faturamento, ficando quase R$ 20 mil abaixo da líder.\n",
        "\n",
        "Esse resultado pode ser reflexo de maior volume de vendas, ticket médio mais alto, maior diversidade de produtos ou estratégias comerciais mais eficazes.\n",
        "📌 Recomendação\n",
        "\n",
        "Com base no desempenho analisado, recomenda-se:\n",
        "\n",
        "    Priorizar ações de marketing e investimento na Loja 3, que demonstrou maior capacidade de geração de receita.\n",
        "\n",
        "    Investigar as estratégias da Loja 3 para replicar boas práticas nas demais unidades.\n",
        "\n",
        "    Revisar o desempenho da Loja 1, identificando gargalos ou oportunidades de melhoria.\n",
        "\n",
        "📊 Próximos Passos (Opcional)\n",
        "\n",
        "    Análise do ticket médio por loja.\n",
        "\n",
        "    Comparação de produtos mais vendidos por loja.\n",
        "\n",
        "    Avaliação de vendas por período (mês, dia da semana, horário).\n",
        "\n",
        "    Estudo da margem de lucro (caso haja dados de custo)."
      ],
      "metadata": {
        "id": "kiJy8gmvwkPU"
      }
    }
  ]
}